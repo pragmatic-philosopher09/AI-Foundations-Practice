{
 "cells": [
  {
   "cell_type": "code",
   "execution_count": 1,
   "metadata": {},
   "outputs": [],
   "source": [
    "#This line will import Mongo to this Python notebook. Nothing will happen if this import has alred been done\n",
    "import pymongo\n",
    "from pymongo import MongoClient\n",
    "client = MongoClient('mongodb://localhost:27017/')"
   ]
  },
  {
   "cell_type": "code",
   "execution_count": 2,
   "metadata": {},
   "outputs": [],
   "source": [
    "#This will create a Collection/Database called \"employees\" if it doesn't already exist\n",
    "db = client['employees']"
   ]
  },
  {
   "cell_type": "code",
   "execution_count": 3,
   "metadata": {},
   "outputs": [],
   "source": [
    "#This line provides the MongoDB name for the Collection/Database \"employees\"\n",
    "employees = db.employees"
   ]
  },
  {
   "cell_type": "code",
   "execution_count": 4,
   "metadata": {},
   "outputs": [
    {
     "data": {
      "text/plain": [
       "<pymongo.results.InsertManyResult at 0x2ba1a581340>"
      ]
     },
     "execution_count": 4,
     "metadata": {},
     "output_type": "execute_result"
    }
   ],
   "source": [
    "#This line inserts employee data into db.employees database\n",
    "db.employees.insert_many([{\"name\": \"Jessica\", \"Department\":\"IT\",\"Salary\": 6000},\n",
    "                                 {\"name\": \"Joseph\", \"Department\":\"IT\",\"Salary\": 7000},\n",
    "                                 {\"name\": \"Alex\", \"Department\":\"Accounts\",\"Salary\": 5000},\n",
    "                                 {\"name\": \"Julie\", \"Department\":\"IT\",\"Salary\": 3000},\n",
    "                                 {\"name\": \"James\", \"Department\":\"Admin\",\"Salary\": 8000},\n",
    "                                 {\"name\": \"Jacob\", \"Department\":\"Admin\",\"Salary\": 9000},\n",
    "                                 {\"name\": \"Kevin\", \"Department\":\"IT\",\"Salary\": 6500}\n",
    "                              ])"
   ]
  },
  {
   "cell_type": "code",
   "execution_count": 5,
   "metadata": {},
   "outputs": [
    {
     "name": "stdout",
     "output_type": "stream",
     "text": [
      "{'_id': ObjectId('60f3d91cee1301e192fab6aa'), 'name': 'Jessica', 'Department': 'IT', 'Salary': 6000}\n",
      "{'_id': ObjectId('60f3d91cee1301e192fab6ab'), 'name': 'Joseph', 'Department': 'IT', 'Salary': 7000}\n",
      "{'_id': ObjectId('60f3d91cee1301e192fab6ac'), 'name': 'Alex', 'Department': 'Accounts', 'Salary': 5000}\n",
      "{'_id': ObjectId('60f3d91cee1301e192fab6ad'), 'name': 'Julie', 'Department': 'IT', 'Salary': 3000}\n",
      "{'_id': ObjectId('60f3d91cee1301e192fab6ae'), 'name': 'James', 'Department': 'Admin', 'Salary': 8000}\n",
      "{'_id': ObjectId('60f3d91cee1301e192fab6af'), 'name': 'Jacob', 'Department': 'Admin', 'Salary': 9000}\n",
      "{'_id': ObjectId('60f3d91cee1301e192fab6b0'), 'name': 'Kevin', 'Department': 'IT', 'Salary': 6500}\n"
     ]
    }
   ],
   "source": [
    "#This finds and prints out all of the employees, their departments and their salaries\n",
    "for employee in employees.find():\n",
    "  print(employee)"
   ]
  },
  {
   "cell_type": "markdown",
   "metadata": {},
   "source": [
    "### To get the total number of records in the collection"
   ]
  },
  {
   "cell_type": "code",
   "execution_count": 6,
   "metadata": {},
   "outputs": [],
   "source": [
    "\n",
    "pipeline = [\n",
    "     {\"$group\": {\"_id\": None,\"Count\": {\"$sum\": 1}}}]\n",
    "grp_employees = db.employees.aggregate(pipeline)"
   ]
  },
  {
   "cell_type": "code",
   "execution_count": 7,
   "metadata": {},
   "outputs": [
    {
     "name": "stdout",
     "output_type": "stream",
     "text": [
      "{'_id': ObjectId('60f3d91cee1301e192fab6b0'), 'name': 'Kevin', 'Department': 'IT', 'Salary': 6500}\n"
     ]
    }
   ],
   "source": [
    "print(employee)"
   ]
  },
  {
   "cell_type": "markdown",
   "metadata": {},
   "source": [
    "### To group by department and get the total salary for each department"
   ]
  },
  {
   "cell_type": "code",
   "execution_count": 8,
   "metadata": {},
   "outputs": [],
   "source": [
    "pipeline = [\n",
    "     {\"$group\": {\"_id\": \"$Department\",\"Salary\": {\"$sum\": \"$Salary\"}}}]\n",
    "grp_employees = db.employees.aggregate(pipeline)\n"
   ]
  },
  {
   "cell_type": "code",
   "execution_count": 9,
   "metadata": {},
   "outputs": [
    {
     "name": "stdout",
     "output_type": "stream",
     "text": [
      "{'_id': ObjectId('60f3d91cee1301e192fab6b0'), 'name': 'Kevin', 'Department': 'IT', 'Salary': 6500}\n"
     ]
    }
   ],
   "source": [
    "print(employee)"
   ]
  },
  {
   "cell_type": "markdown",
   "metadata": {},
   "source": [
    "### To group by department and get the average salary for each department"
   ]
  },
  {
   "cell_type": "code",
   "execution_count": 10,
   "metadata": {},
   "outputs": [],
   "source": [
    "pipeline = [\n",
    "     {\"$group\": {\"_id\": \"$Department\",\"Salary\": {\"$avg\": \"$Salary\"}}}]\n",
    "grp_employees = db.employees.aggregate(pipeline)\n"
   ]
  },
  {
   "cell_type": "code",
   "execution_count": 11,
   "metadata": {},
   "outputs": [
    {
     "name": "stdout",
     "output_type": "stream",
     "text": [
      "60f3d91cee1301e192fab6b0 \t Average Salary  6500\n"
     ]
    }
   ],
   "source": [
    "print(employee['_id'],\"\\t Average Salary \",employee['Salary'])"
   ]
  },
  {
   "cell_type": "markdown",
   "metadata": {},
   "source": [
    "### To get the employees with the lowest salary"
   ]
  },
  {
   "cell_type": "code",
   "execution_count": 12,
   "metadata": {},
   "outputs": [],
   "source": [
    "pipeline = [\n",
    "     {\"$group\": {\"_id\": None ,\"Minimum Salary\": {\"$min\": \"$Salary\"}}}]\n",
    "grp_employees = db.employees.aggregate(pipeline)\n"
   ]
  },
  {
   "cell_type": "code",
   "execution_count": 14,
   "metadata": {},
   "outputs": [
    {
     "name": "stdout",
     "output_type": "stream",
     "text": [
      "Name  Kevin \n",
      "Salary  6500\n"
     ]
    }
   ],
   "source": [
    "for spec_emp in employees.find({\"Salary\":employee['Salary']}):\n",
    "        print(\"Name \",spec_emp['name'],\"\\nSalary \",spec_emp['Salary'])\n"
   ]
  },
  {
   "cell_type": "code",
   "execution_count": null,
   "metadata": {},
   "outputs": [],
   "source": []
  }
 ],
 "metadata": {
  "kernelspec": {
   "display_name": "Python 3",
   "language": "python",
   "name": "python3"
  },
  "language_info": {
   "codemirror_mode": {
    "name": "ipython",
    "version": 3
   },
   "file_extension": ".py",
   "mimetype": "text/x-python",
   "name": "python",
   "nbconvert_exporter": "python",
   "pygments_lexer": "ipython3",
   "version": "3.8.8"
  }
 },
 "nbformat": 4,
 "nbformat_minor": 4
}
