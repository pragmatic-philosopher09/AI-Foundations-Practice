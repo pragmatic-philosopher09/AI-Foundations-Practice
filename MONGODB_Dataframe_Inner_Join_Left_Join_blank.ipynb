{
 "cells": [
  {
   "cell_type": "code",
   "execution_count": 1,
   "metadata": {},
   "outputs": [],
   "source": [
    "import pymongo\n",
    "from pymongo import MongoClient\n",
    "client = MongoClient('mongodb://localhost:27017/')"
   ]
  },
  {
   "cell_type": "code",
   "execution_count": 2,
   "metadata": {},
   "outputs": [],
   "source": [
    "#This will create a Collection/Database called department if it doesn't already exist\n",
    "coll_department = client['department']\n",
    "\n",
    "department = coll_department.department"
   ]
  },
  {
   "cell_type": "code",
   "execution_count": 3,
   "metadata": {},
   "outputs": [
    {
     "data": {
      "text/plain": [
       "<pymongo.results.InsertManyResult at 0x18e09650140>"
      ]
     },
     "execution_count": 3,
     "metadata": {},
     "output_type": "execute_result"
    }
   ],
   "source": [
    "#Inserts department names and heads data\n",
    "department.insert_many([{\"dep_name\": \"IT\", \"DepartmentHead\":\"Jason\"},\n",
    "                            {\"dep_name\": \"Admin\", \"DepartmentHead\":\"Nial\"},\n",
    "                            {\"dep_name\": \"Accounts\", \"DepartmentHead\":\"Harris\"}])"
   ]
  },
  {
   "cell_type": "markdown",
   "metadata": {},
   "source": [
    "##In order to create the data we will pandas dataframe. A Data frame is a two-dimensional data structure, i.e., data is aligned in a tabular fashion in rows and columns. Pandas DataFrame consists of three principal components, the data, rows, and columns."
   ]
  },
  {
   "cell_type": "code",
   "execution_count": 4,
   "metadata": {},
   "outputs": [],
   "source": [
    "#This will create a Collection/Database called employees if it doesn't already exist\n",
    "import pandas as pd\n",
    "\n",
    "db = client['employees']\n",
    "\n",
    "df_employees = pd.DataFrame(list(db.employees.find()))"
   ]
  },
  {
   "cell_type": "code",
   "execution_count": 5,
   "metadata": {},
   "outputs": [
    {
     "data": {
      "text/html": [
       "<div>\n",
       "<style scoped>\n",
       "    .dataframe tbody tr th:only-of-type {\n",
       "        vertical-align: middle;\n",
       "    }\n",
       "\n",
       "    .dataframe tbody tr th {\n",
       "        vertical-align: top;\n",
       "    }\n",
       "\n",
       "    .dataframe thead th {\n",
       "        text-align: right;\n",
       "    }\n",
       "</style>\n",
       "<table border=\"1\" class=\"dataframe\">\n",
       "  <thead>\n",
       "    <tr style=\"text-align: right;\">\n",
       "      <th></th>\n",
       "      <th>_id</th>\n",
       "      <th>name</th>\n",
       "      <th>Department</th>\n",
       "      <th>Salary</th>\n",
       "    </tr>\n",
       "  </thead>\n",
       "  <tbody>\n",
       "    <tr>\n",
       "      <th>0</th>\n",
       "      <td>60f3d91cee1301e192fab6aa</td>\n",
       "      <td>Jessica</td>\n",
       "      <td>IT</td>\n",
       "      <td>6000</td>\n",
       "    </tr>\n",
       "    <tr>\n",
       "      <th>1</th>\n",
       "      <td>60f3d91cee1301e192fab6ab</td>\n",
       "      <td>Joseph</td>\n",
       "      <td>IT</td>\n",
       "      <td>7000</td>\n",
       "    </tr>\n",
       "    <tr>\n",
       "      <th>2</th>\n",
       "      <td>60f3d91cee1301e192fab6ac</td>\n",
       "      <td>Alex</td>\n",
       "      <td>Accounts</td>\n",
       "      <td>5000</td>\n",
       "    </tr>\n",
       "    <tr>\n",
       "      <th>3</th>\n",
       "      <td>60f3d91cee1301e192fab6ad</td>\n",
       "      <td>Julie</td>\n",
       "      <td>IT</td>\n",
       "      <td>3000</td>\n",
       "    </tr>\n",
       "    <tr>\n",
       "      <th>4</th>\n",
       "      <td>60f3d91cee1301e192fab6ae</td>\n",
       "      <td>James</td>\n",
       "      <td>Admin</td>\n",
       "      <td>8000</td>\n",
       "    </tr>\n",
       "  </tbody>\n",
       "</table>\n",
       "</div>"
      ],
      "text/plain": [
       "                        _id     name Department  Salary\n",
       "0  60f3d91cee1301e192fab6aa  Jessica         IT    6000\n",
       "1  60f3d91cee1301e192fab6ab   Joseph         IT    7000\n",
       "2  60f3d91cee1301e192fab6ac     Alex   Accounts    5000\n",
       "3  60f3d91cee1301e192fab6ad    Julie         IT    3000\n",
       "4  60f3d91cee1301e192fab6ae    James      Admin    8000"
      ]
     },
     "execution_count": 5,
     "metadata": {},
     "output_type": "execute_result"
    }
   ],
   "source": [
    "df_employees.head()"
   ]
  },
  {
   "cell_type": "code",
   "execution_count": 6,
   "metadata": {},
   "outputs": [],
   "source": [
    "df_department = pd.DataFrame(list(department.find()))"
   ]
  },
  {
   "cell_type": "code",
   "execution_count": 7,
   "metadata": {},
   "outputs": [
    {
     "data": {
      "text/html": [
       "<div>\n",
       "<style scoped>\n",
       "    .dataframe tbody tr th:only-of-type {\n",
       "        vertical-align: middle;\n",
       "    }\n",
       "\n",
       "    .dataframe tbody tr th {\n",
       "        vertical-align: top;\n",
       "    }\n",
       "\n",
       "    .dataframe thead th {\n",
       "        text-align: right;\n",
       "    }\n",
       "</style>\n",
       "<table border=\"1\" class=\"dataframe\">\n",
       "  <thead>\n",
       "    <tr style=\"text-align: right;\">\n",
       "      <th></th>\n",
       "      <th>_id</th>\n",
       "      <th>dep_name</th>\n",
       "      <th>DepartmentHead</th>\n",
       "    </tr>\n",
       "  </thead>\n",
       "  <tbody>\n",
       "    <tr>\n",
       "      <th>0</th>\n",
       "      <td>60f3df0b9a2c0576531b768f</td>\n",
       "      <td>IT</td>\n",
       "      <td>Jason</td>\n",
       "    </tr>\n",
       "    <tr>\n",
       "      <th>1</th>\n",
       "      <td>60f3df0b9a2c0576531b7690</td>\n",
       "      <td>Admin</td>\n",
       "      <td>Nial</td>\n",
       "    </tr>\n",
       "    <tr>\n",
       "      <th>2</th>\n",
       "      <td>60f3df0b9a2c0576531b7691</td>\n",
       "      <td>Accounts</td>\n",
       "      <td>Harris</td>\n",
       "    </tr>\n",
       "  </tbody>\n",
       "</table>\n",
       "</div>"
      ],
      "text/plain": [
       "                        _id  dep_name DepartmentHead\n",
       "0  60f3df0b9a2c0576531b768f        IT          Jason\n",
       "1  60f3df0b9a2c0576531b7690     Admin           Nial\n",
       "2  60f3df0b9a2c0576531b7691  Accounts         Harris"
      ]
     },
     "execution_count": 7,
     "metadata": {},
     "output_type": "execute_result"
    }
   ],
   "source": [
    "df_department.head()\n"
   ]
  },
  {
   "cell_type": "markdown",
   "metadata": {},
   "source": [
    "### Left Join: \n",
    "\n",
    "Left join uses only keys from left frame, similar to a SQL left outer join"
   ]
  },
  {
   "cell_type": "code",
   "execution_count": 8,
   "metadata": {},
   "outputs": [
    {
     "data": {
      "text/html": [
       "<div>\n",
       "<style scoped>\n",
       "    .dataframe tbody tr th:only-of-type {\n",
       "        vertical-align: middle;\n",
       "    }\n",
       "\n",
       "    .dataframe tbody tr th {\n",
       "        vertical-align: top;\n",
       "    }\n",
       "\n",
       "    .dataframe thead th {\n",
       "        text-align: right;\n",
       "    }\n",
       "</style>\n",
       "<table border=\"1\" class=\"dataframe\">\n",
       "  <thead>\n",
       "    <tr style=\"text-align: right;\">\n",
       "      <th></th>\n",
       "      <th>_id_x</th>\n",
       "      <th>name</th>\n",
       "      <th>Department</th>\n",
       "      <th>Salary</th>\n",
       "      <th>_id_y</th>\n",
       "      <th>dep_name</th>\n",
       "      <th>DepartmentHead</th>\n",
       "    </tr>\n",
       "  </thead>\n",
       "  <tbody>\n",
       "    <tr>\n",
       "      <th>0</th>\n",
       "      <td>60f3d91cee1301e192fab6aa</td>\n",
       "      <td>Jessica</td>\n",
       "      <td>IT</td>\n",
       "      <td>6000</td>\n",
       "      <td>60f3df0b9a2c0576531b768f</td>\n",
       "      <td>IT</td>\n",
       "      <td>Jason</td>\n",
       "    </tr>\n",
       "    <tr>\n",
       "      <th>1</th>\n",
       "      <td>60f3d91cee1301e192fab6ab</td>\n",
       "      <td>Joseph</td>\n",
       "      <td>IT</td>\n",
       "      <td>7000</td>\n",
       "      <td>60f3df0b9a2c0576531b768f</td>\n",
       "      <td>IT</td>\n",
       "      <td>Jason</td>\n",
       "    </tr>\n",
       "    <tr>\n",
       "      <th>2</th>\n",
       "      <td>60f3d91cee1301e192fab6ac</td>\n",
       "      <td>Alex</td>\n",
       "      <td>Accounts</td>\n",
       "      <td>5000</td>\n",
       "      <td>60f3df0b9a2c0576531b7691</td>\n",
       "      <td>Accounts</td>\n",
       "      <td>Harris</td>\n",
       "    </tr>\n",
       "    <tr>\n",
       "      <th>3</th>\n",
       "      <td>60f3d91cee1301e192fab6ad</td>\n",
       "      <td>Julie</td>\n",
       "      <td>IT</td>\n",
       "      <td>3000</td>\n",
       "      <td>60f3df0b9a2c0576531b768f</td>\n",
       "      <td>IT</td>\n",
       "      <td>Jason</td>\n",
       "    </tr>\n",
       "    <tr>\n",
       "      <th>4</th>\n",
       "      <td>60f3d91cee1301e192fab6ae</td>\n",
       "      <td>James</td>\n",
       "      <td>Admin</td>\n",
       "      <td>8000</td>\n",
       "      <td>60f3df0b9a2c0576531b7690</td>\n",
       "      <td>Admin</td>\n",
       "      <td>Nial</td>\n",
       "    </tr>\n",
       "    <tr>\n",
       "      <th>5</th>\n",
       "      <td>60f3d91cee1301e192fab6af</td>\n",
       "      <td>Jacob</td>\n",
       "      <td>Admin</td>\n",
       "      <td>9000</td>\n",
       "      <td>60f3df0b9a2c0576531b7690</td>\n",
       "      <td>Admin</td>\n",
       "      <td>Nial</td>\n",
       "    </tr>\n",
       "    <tr>\n",
       "      <th>6</th>\n",
       "      <td>60f3d91cee1301e192fab6b0</td>\n",
       "      <td>Kevin</td>\n",
       "      <td>IT</td>\n",
       "      <td>6500</td>\n",
       "      <td>60f3df0b9a2c0576531b768f</td>\n",
       "      <td>IT</td>\n",
       "      <td>Jason</td>\n",
       "    </tr>\n",
       "  </tbody>\n",
       "</table>\n",
       "</div>"
      ],
      "text/plain": [
       "                      _id_x     name Department  Salary  \\\n",
       "0  60f3d91cee1301e192fab6aa  Jessica         IT    6000   \n",
       "1  60f3d91cee1301e192fab6ab   Joseph         IT    7000   \n",
       "2  60f3d91cee1301e192fab6ac     Alex   Accounts    5000   \n",
       "3  60f3d91cee1301e192fab6ad    Julie         IT    3000   \n",
       "4  60f3d91cee1301e192fab6ae    James      Admin    8000   \n",
       "5  60f3d91cee1301e192fab6af    Jacob      Admin    9000   \n",
       "6  60f3d91cee1301e192fab6b0    Kevin         IT    6500   \n",
       "\n",
       "                      _id_y  dep_name DepartmentHead  \n",
       "0  60f3df0b9a2c0576531b768f        IT          Jason  \n",
       "1  60f3df0b9a2c0576531b768f        IT          Jason  \n",
       "2  60f3df0b9a2c0576531b7691  Accounts         Harris  \n",
       "3  60f3df0b9a2c0576531b768f        IT          Jason  \n",
       "4  60f3df0b9a2c0576531b7690     Admin           Nial  \n",
       "5  60f3df0b9a2c0576531b7690     Admin           Nial  \n",
       "6  60f3df0b9a2c0576531b768f        IT          Jason  "
      ]
     },
     "execution_count": 8,
     "metadata": {},
     "output_type": "execute_result"
    }
   ],
   "source": [
    "df_employees.merge(df_department,left_on=\"Department\",right_on=\"dep_name\",how=\"left\")"
   ]
  },
  {
   "cell_type": "markdown",
   "metadata": {},
   "source": [
    "### Inner Join: \n",
    "\n",
    "Use intersection of keys from both frames, similar to a SQL inner join; preserve the order of the left keys."
   ]
  },
  {
   "cell_type": "code",
   "execution_count": 10,
   "metadata": {},
   "outputs": [
    {
     "data": {
      "text/html": [
       "<div>\n",
       "<style scoped>\n",
       "    .dataframe tbody tr th:only-of-type {\n",
       "        vertical-align: middle;\n",
       "    }\n",
       "\n",
       "    .dataframe tbody tr th {\n",
       "        vertical-align: top;\n",
       "    }\n",
       "\n",
       "    .dataframe thead th {\n",
       "        text-align: right;\n",
       "    }\n",
       "</style>\n",
       "<table border=\"1\" class=\"dataframe\">\n",
       "  <thead>\n",
       "    <tr style=\"text-align: right;\">\n",
       "      <th></th>\n",
       "      <th>_id_x</th>\n",
       "      <th>name</th>\n",
       "      <th>Department</th>\n",
       "      <th>Salary</th>\n",
       "      <th>_id_y</th>\n",
       "      <th>dep_name</th>\n",
       "      <th>DepartmentHead</th>\n",
       "    </tr>\n",
       "  </thead>\n",
       "  <tbody>\n",
       "    <tr>\n",
       "      <th>0</th>\n",
       "      <td>60f3d91cee1301e192fab6aa</td>\n",
       "      <td>Jessica</td>\n",
       "      <td>IT</td>\n",
       "      <td>6000</td>\n",
       "      <td>60f3df0b9a2c0576531b768f</td>\n",
       "      <td>IT</td>\n",
       "      <td>Jason</td>\n",
       "    </tr>\n",
       "    <tr>\n",
       "      <th>1</th>\n",
       "      <td>60f3d91cee1301e192fab6ab</td>\n",
       "      <td>Joseph</td>\n",
       "      <td>IT</td>\n",
       "      <td>7000</td>\n",
       "      <td>60f3df0b9a2c0576531b768f</td>\n",
       "      <td>IT</td>\n",
       "      <td>Jason</td>\n",
       "    </tr>\n",
       "    <tr>\n",
       "      <th>2</th>\n",
       "      <td>60f3d91cee1301e192fab6ad</td>\n",
       "      <td>Julie</td>\n",
       "      <td>IT</td>\n",
       "      <td>3000</td>\n",
       "      <td>60f3df0b9a2c0576531b768f</td>\n",
       "      <td>IT</td>\n",
       "      <td>Jason</td>\n",
       "    </tr>\n",
       "    <tr>\n",
       "      <th>3</th>\n",
       "      <td>60f3d91cee1301e192fab6b0</td>\n",
       "      <td>Kevin</td>\n",
       "      <td>IT</td>\n",
       "      <td>6500</td>\n",
       "      <td>60f3df0b9a2c0576531b768f</td>\n",
       "      <td>IT</td>\n",
       "      <td>Jason</td>\n",
       "    </tr>\n",
       "    <tr>\n",
       "      <th>4</th>\n",
       "      <td>60f3d91cee1301e192fab6ac</td>\n",
       "      <td>Alex</td>\n",
       "      <td>Accounts</td>\n",
       "      <td>5000</td>\n",
       "      <td>60f3df0b9a2c0576531b7691</td>\n",
       "      <td>Accounts</td>\n",
       "      <td>Harris</td>\n",
       "    </tr>\n",
       "    <tr>\n",
       "      <th>5</th>\n",
       "      <td>60f3d91cee1301e192fab6ae</td>\n",
       "      <td>James</td>\n",
       "      <td>Admin</td>\n",
       "      <td>8000</td>\n",
       "      <td>60f3df0b9a2c0576531b7690</td>\n",
       "      <td>Admin</td>\n",
       "      <td>Nial</td>\n",
       "    </tr>\n",
       "    <tr>\n",
       "      <th>6</th>\n",
       "      <td>60f3d91cee1301e192fab6af</td>\n",
       "      <td>Jacob</td>\n",
       "      <td>Admin</td>\n",
       "      <td>9000</td>\n",
       "      <td>60f3df0b9a2c0576531b7690</td>\n",
       "      <td>Admin</td>\n",
       "      <td>Nial</td>\n",
       "    </tr>\n",
       "  </tbody>\n",
       "</table>\n",
       "</div>"
      ],
      "text/plain": [
       "                      _id_x     name Department  Salary  \\\n",
       "0  60f3d91cee1301e192fab6aa  Jessica         IT    6000   \n",
       "1  60f3d91cee1301e192fab6ab   Joseph         IT    7000   \n",
       "2  60f3d91cee1301e192fab6ad    Julie         IT    3000   \n",
       "3  60f3d91cee1301e192fab6b0    Kevin         IT    6500   \n",
       "4  60f3d91cee1301e192fab6ac     Alex   Accounts    5000   \n",
       "5  60f3d91cee1301e192fab6ae    James      Admin    8000   \n",
       "6  60f3d91cee1301e192fab6af    Jacob      Admin    9000   \n",
       "\n",
       "                      _id_y  dep_name DepartmentHead  \n",
       "0  60f3df0b9a2c0576531b768f        IT          Jason  \n",
       "1  60f3df0b9a2c0576531b768f        IT          Jason  \n",
       "2  60f3df0b9a2c0576531b768f        IT          Jason  \n",
       "3  60f3df0b9a2c0576531b768f        IT          Jason  \n",
       "4  60f3df0b9a2c0576531b7691  Accounts         Harris  \n",
       "5  60f3df0b9a2c0576531b7690     Admin           Nial  \n",
       "6  60f3df0b9a2c0576531b7690     Admin           Nial  "
      ]
     },
     "execution_count": 10,
     "metadata": {},
     "output_type": "execute_result"
    }
   ],
   "source": [
    "df_employees.merge(df_department,left_on=\"Department\",right_on=\"dep_name\",how=\"inner\")"
   ]
  },
  {
   "cell_type": "markdown",
   "metadata": {},
   "source": [
    "### To get the total number of records in the collection"
   ]
  },
  {
   "cell_type": "code",
   "execution_count": 11,
   "metadata": {},
   "outputs": [],
   "source": [
    "pipeline = [\n",
    "     {\"$group\": {\"_id\": None,\"Count\": {\"$sum\": 1}}}]\n",
    "grp_employees = db.employees.aggregate(pipeline)\n"
   ]
  },
  {
   "cell_type": "code",
   "execution_count": 12,
   "metadata": {},
   "outputs": [
    {
     "name": "stdout",
     "output_type": "stream",
     "text": [
      "{'_id': None, 'Count': 7}\n"
     ]
    }
   ],
   "source": [
    "for employee in grp_employees:\n",
    "  print(employee)"
   ]
  },
  {
   "cell_type": "markdown",
   "metadata": {},
   "source": [
    "### To group by department and get the total salary for each department"
   ]
  },
  {
   "cell_type": "code",
   "execution_count": 13,
   "metadata": {},
   "outputs": [],
   "source": [
    "pipeline = [\n",
    "     {\"$group\": {\"_id\": \"$Department\",\"Salary\": {\"$sum\": \"$Salary\"}}}]\n",
    "grp_employees = db.employees.aggregate(pipeline)\n"
   ]
  },
  {
   "cell_type": "code",
   "execution_count": 14,
   "metadata": {},
   "outputs": [
    {
     "name": "stdout",
     "output_type": "stream",
     "text": [
      "{'_id': 'IT', 'Salary': 22500}\n",
      "{'_id': 'Accounts', 'Salary': 5000}\n",
      "{'_id': 'Admin', 'Salary': 17000}\n"
     ]
    }
   ],
   "source": [
    "for employee in grp_employees:\n",
    "  print(employee)"
   ]
  },
  {
   "cell_type": "markdown",
   "metadata": {},
   "source": [
    "### To group by department and get the average salary for each department"
   ]
  },
  {
   "cell_type": "code",
   "execution_count": 15,
   "metadata": {},
   "outputs": [],
   "source": [
    "pipeline = [\n",
    "     {\"$group\": {\"_id\": \"$Department\",\"Salary\": {\"$avg\": \"$Salary\"}}}]\n",
    "grp_employees = db.employees.aggregate(pipeline)"
   ]
  },
  {
   "cell_type": "code",
   "execution_count": 16,
   "metadata": {},
   "outputs": [
    {
     "name": "stdout",
     "output_type": "stream",
     "text": [
      "IT \t Average Salary  5625.0\n",
      "Accounts \t Average Salary  5000.0\n",
      "Admin \t Average Salary  8500.0\n"
     ]
    }
   ],
   "source": [
    "for employee in grp_employees:\n",
    "  print(employee['_id'],\"\\t Average Salary \",employee['Salary'])"
   ]
  },
  {
   "cell_type": "markdown",
   "metadata": {},
   "source": [
    "### To get the employees with the lowest salary"
   ]
  },
  {
   "cell_type": "code",
   "execution_count": 17,
   "metadata": {},
   "outputs": [],
   "source": [
    "pipeline = [\n",
    "     {\"$group\": {\"_id\": None ,\"Minimum Salary\": {\"$min\": \"$Salary\"}}}]\n",
    "grp_employees = db.employees.aggregate(pipeline)"
   ]
  },
  {
   "cell_type": "code",
   "execution_count": 18,
   "metadata": {},
   "outputs": [
    {
     "name": "stdout",
     "output_type": "stream",
     "text": [
      "Name  Julie \n",
      "Salary  3000\n"
     ]
    }
   ],
   "source": [
    "for employee in grp_employees:\n",
    "    for spec_emp in db.employees.find({\"Salary\":employee['Minimum Salary']}):\n",
    "        print(\"Name \",spec_emp['name'],\"\\nSalary \",spec_emp['Salary'])\n",
    "\n",
    "\n"
   ]
  },
  {
   "cell_type": "code",
   "execution_count": null,
   "metadata": {},
   "outputs": [],
   "source": []
  }
 ],
 "metadata": {
  "kernelspec": {
   "display_name": "Python 3",
   "language": "python",
   "name": "python3"
  },
  "language_info": {
   "codemirror_mode": {
    "name": "ipython",
    "version": 3
   },
   "file_extension": ".py",
   "mimetype": "text/x-python",
   "name": "python",
   "nbconvert_exporter": "python",
   "pygments_lexer": "ipython3",
   "version": "3.8.8"
  }
 },
 "nbformat": 4,
 "nbformat_minor": 4
}
